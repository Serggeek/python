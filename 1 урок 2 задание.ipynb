{
 "cells": [
  {
   "cell_type": "code",
   "execution_count": 16,
   "metadata": {},
   "outputs": [
    {
     "name": "stdout",
     "output_type": "stream",
     "text": [
      "Введите переменную (целое число) a 85\n",
      "Введите переменную (целое исло) b 65\n",
      "a= 65\n",
      "b= 85\n"
     ]
    }
   ],
   "source": [
    "a = int(input(\"Введите переменную (целое число) a \"))\n",
    "b = int(input(\"Введите переменную (целое исло) b \"))\n",
    "c = a+b;\n",
    "print(\"a=\", c-a);\n",
    "print(\"b=\", c-b);\n"
   ]
  },
  {
   "cell_type": "code",
   "execution_count": null,
   "metadata": {},
   "outputs": [],
   "source": []
  }
 ],
 "metadata": {
  "kernelspec": {
   "display_name": "Python 3",
   "language": "python",
   "name": "python3"
  },
  "language_info": {
   "codemirror_mode": {
    "name": "ipython",
    "version": 3
   },
   "file_extension": ".py",
   "mimetype": "text/x-python",
   "name": "python",
   "nbconvert_exporter": "python",
   "pygments_lexer": "ipython3",
   "version": "3.6.5"
  }
 },
 "nbformat": 4,
 "nbformat_minor": 2
}
